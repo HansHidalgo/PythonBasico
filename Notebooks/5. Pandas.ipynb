{
 "cells": [
  {
   "cell_type": "code",
   "execution_count": null,
   "metadata": {
    "id": "6tKoGVS7uZXx"
   },
   "outputs": [],
   "source": [
    "import numpy as np\n",
    "import pandas as pd"
   ]
  },
  {
   "cell_type": "markdown",
   "metadata": {
    "id": "ZPge-rqouZX-"
   },
   "source": [
    "# Creación de un dataframe"
   ]
  },
  {
   "cell_type": "markdown",
   "metadata": {
    "id": "p6u7Fl7suZX_"
   },
   "source": [
    "### Creación desde una lista"
   ]
  },
  {
   "cell_type": "code",
   "execution_count": null,
   "metadata": {
    "id": "zNnboHbuuZYA"
   },
   "outputs": [],
   "source": [
    "data = [1,2,3,4,5]\n",
    "df = pd.DataFrame(data) # Función para crear dataframes\n",
    "df"
   ]
  },
  {
   "cell_type": "code",
   "execution_count": null,
   "metadata": {
    "id": "bYFFGJ2HuZYB"
   },
   "outputs": [],
   "source": [
    "data = [['Alex',10],['Bob',12],['Clarke',13]]\n",
    "df = pd.DataFrame( data,columns=['Name','Age'])\n",
    "df"
   ]
  },
  {
   "cell_type": "markdown",
   "metadata": {
    "id": "Zj7xbV2luZYC"
   },
   "source": [
    "### Creación desde un diccionario"
   ]
  },
  {
   "cell_type": "code",
   "execution_count": null,
   "metadata": {
    "id": "2VSlJK-0uZYC"
   },
   "outputs": [],
   "source": [
    "data = {'Name':['Tom', 'Jack', 'Steve', 'Ricky'],'Age':[28,34,29,42]}\n",
    "df = pd.DataFrame(data)\n",
    "df"
   ]
  },
  {
   "cell_type": "code",
   "execution_count": null,
   "metadata": {
    "id": "YLEvBjdEuZYD"
   },
   "outputs": [],
   "source": [
    "data = {'Name':['Tom', 'Jack', 'Steve', 'Ricky'],'Age':[28,34,29,42]}\n",
    "df = pd.DataFrame(data, index=['rank1','rank2','rank3','rank4'])\n",
    "df"
   ]
  },
  {
   "cell_type": "code",
   "execution_count": null,
   "metadata": {
    "id": "iAafPfNmuZYE"
   },
   "outputs": [],
   "source": [
    "df = pd.DataFrame({'A': 1.,\n",
    "                     'B': pd.Timestamp('20130102'),\n",
    "                     'C': pd.Series(1, index=list(range(4)), dtype='float32'),\n",
    "                     'D': np.array([3] * 4, dtype='int32'),\n",
    "                     'E': [\"test\", \"train\", \"test\", \"train\"],\n",
    "                     'F': 'foo'})\n",
    "df"
   ]
  },
  {
   "cell_type": "markdown",
   "metadata": {
    "id": "t4LhBEd_uZYE"
   },
   "source": [
    "Tipo de dato de las columnas"
   ]
  },
  {
   "cell_type": "code",
   "execution_count": null,
   "metadata": {
    "id": "c-qteKCwuZYF"
   },
   "outputs": [],
   "source": [
    "df.dtypes"
   ]
  },
  {
   "cell_type": "code",
   "execution_count": null,
   "metadata": {
    "id": "rqaH7NSGuZYF"
   },
   "outputs": [],
   "source": [
    "df.info()"
   ]
  },
  {
   "cell_type": "markdown",
   "metadata": {
    "id": "bhdTksYTuZYG"
   },
   "source": [
    "### Creación desde una lista de diccionarios"
   ]
  },
  {
   "cell_type": "code",
   "execution_count": null,
   "metadata": {
    "id": "CVAEUn4zuZYG"
   },
   "outputs": [],
   "source": [
    "data = [{'a': 1, 'b': 2},{'a': 5, 'b': 10, 'c': 20}]\n",
    "df = pd.DataFrame(data, index=['first', 'second'])\n",
    "df"
   ]
  },
  {
   "cell_type": "code",
   "execution_count": null,
   "metadata": {
    "id": "6LNetQBNuZYH"
   },
   "outputs": [],
   "source": [
    "df.info()"
   ]
  },
  {
   "cell_type": "markdown",
   "metadata": {
    "id": "RYCUQRAruZYH"
   },
   "source": [
    "# Observar los datos"
   ]
  },
  {
   "cell_type": "markdown",
   "metadata": {
    "id": "hMKogImDuZYH"
   },
   "source": [
    "Crear rango de fechas"
   ]
  },
  {
   "cell_type": "code",
   "execution_count": null,
   "metadata": {
    "id": "WUcxm9G_uZYI"
   },
   "outputs": [],
   "source": [
    "dates = pd.date_range('20200201', periods=20)\n",
    "dates"
   ]
  },
  {
   "cell_type": "markdown",
   "metadata": {
    "id": "i5B9dkyIuZYI"
   },
   "source": [
    "Crear dataframe"
   ]
  },
  {
   "cell_type": "code",
   "execution_count": null,
   "metadata": {
    "id": "OhkFsTMTuZYJ"
   },
   "outputs": [],
   "source": [
    "df = pd.DataFrame(np.random.randn(20, 4), index=dates, columns=['A','B','C','D']) # \"standard normal\" distribution"
   ]
  },
  {
   "cell_type": "code",
   "execution_count": null,
   "metadata": {
    "id": "tOdUD5VquZYJ",
    "scrolled": true
   },
   "outputs": [],
   "source": [
    "df"
   ]
  },
  {
   "cell_type": "markdown",
   "metadata": {
    "id": "fZeuFYbauZYK"
   },
   "source": [
    "### Head and tail"
   ]
  },
  {
   "cell_type": "markdown",
   "metadata": {
    "id": "OPbKwzvbuZYK"
   },
   "source": [
    "Ver los 5 primeros registros"
   ]
  },
  {
   "cell_type": "code",
   "execution_count": null,
   "metadata": {
    "id": "Q700BNULuZYK"
   },
   "outputs": [],
   "source": [
    "df.head()"
   ]
  },
  {
   "cell_type": "markdown",
   "metadata": {
    "id": "Mnx4SQ7BuZYL"
   },
   "source": [
    "Ver los 10 primeros registros"
   ]
  },
  {
   "cell_type": "code",
   "execution_count": null,
   "metadata": {
    "id": "_VjIz7i3uZYL"
   },
   "outputs": [],
   "source": [
    "df.head(10)"
   ]
  },
  {
   "cell_type": "markdown",
   "metadata": {
    "id": "ha-WP7nhuZYL"
   },
   "source": [
    "Ver los 5 últimos registros"
   ]
  },
  {
   "cell_type": "code",
   "execution_count": null,
   "metadata": {
    "id": "bRBzHI3auZYM"
   },
   "outputs": [],
   "source": [
    "df.tail(10)"
   ]
  },
  {
   "cell_type": "markdown",
   "metadata": {
    "id": "U5M-PWKEuZYM"
   },
   "source": [
    "# Describe"
   ]
  },
  {
   "cell_type": "code",
   "execution_count": null,
   "metadata": {
    "id": "08MpSFcuuZYM"
   },
   "outputs": [],
   "source": [
    "df.describe()"
   ]
  },
  {
   "cell_type": "markdown",
   "metadata": {
    "id": "cfUQTjrXuZYN"
   },
   "source": [
    "# Transponer"
   ]
  },
  {
   "cell_type": "code",
   "execution_count": null,
   "metadata": {
    "id": "LaqenD4kuZYN"
   },
   "outputs": [],
   "source": [
    "df.T"
   ]
  },
  {
   "cell_type": "markdown",
   "metadata": {
    "id": "TE_F0FjkuZYN"
   },
   "source": [
    "# Ordenar"
   ]
  },
  {
   "cell_type": "markdown",
   "metadata": {
    "id": "kTUjocEOuZYO"
   },
   "source": [
    "Ordenar por un \"axis\"."
   ]
  },
  {
   "cell_type": "code",
   "execution_count": null,
   "metadata": {
    "id": "lfqqPhoDuZYO"
   },
   "outputs": [],
   "source": [
    "df.sort_index(axis=1, ascending=False).head() # axis=1 columnas"
   ]
  },
  {
   "cell_type": "code",
   "execution_count": null,
   "metadata": {
    "id": "FHsJEs5euZYO"
   },
   "outputs": [],
   "source": [
    "df.sort_index(axis=0, ascending=False).head() # axis=0 filas"
   ]
  },
  {
   "cell_type": "markdown",
   "metadata": {
    "id": "JYtJO1qyuZYP"
   },
   "source": [
    "Ordenar por valor"
   ]
  },
  {
   "cell_type": "code",
   "execution_count": null,
   "metadata": {
    "id": "GfzrjNRQuZYP",
    "scrolled": true
   },
   "outputs": [],
   "source": [
    "df.sort_values(by='B',ascending=False)"
   ]
  },
  {
   "cell_type": "markdown",
   "metadata": {
    "id": "oj5aZ8ikuZYQ"
   },
   "source": [
    "# Selección"
   ]
  },
  {
   "cell_type": "markdown",
   "metadata": {
    "id": "b1OR6MYwuZYQ"
   },
   "source": [
    "Selección de columnas"
   ]
  },
  {
   "cell_type": "code",
   "execution_count": null,
   "metadata": {
    "id": "-6AJpWyGuZYQ",
    "scrolled": true
   },
   "outputs": [],
   "source": [
    "df['A'].head(10)"
   ]
  },
  {
   "cell_type": "code",
   "execution_count": null,
   "metadata": {
    "id": "NHWV-NJmuZYR",
    "scrolled": true
   },
   "outputs": [],
   "source": [
    "df['A','B']"
   ]
  },
  {
   "cell_type": "code",
   "execution_count": null,
   "metadata": {
    "id": "Ywz9Rl3RuZYR"
   },
   "outputs": [],
   "source": [
    "df[['A','B']].head()"
   ]
  },
  {
   "cell_type": "markdown",
   "metadata": {
    "id": "3ViaxCmKuZYR"
   },
   "source": [
    "Selección de filas"
   ]
  },
  {
   "cell_type": "code",
   "execution_count": null,
   "metadata": {
    "id": "6fU4gkpCuZYS"
   },
   "outputs": [],
   "source": [
    "df[0:3]"
   ]
  },
  {
   "cell_type": "code",
   "execution_count": null,
   "metadata": {
    "id": "bj93-KtnuZYS"
   },
   "outputs": [],
   "source": [
    "df['20200210':'20200215']"
   ]
  },
  {
   "cell_type": "markdown",
   "metadata": {
    "id": "FM4fox8UuZYS"
   },
   "source": [
    "### Selección por etiqueta"
   ]
  },
  {
   "cell_type": "code",
   "execution_count": null,
   "metadata": {
    "id": "u54acnPPuZYT"
   },
   "outputs": [],
   "source": [
    "dates[0]"
   ]
  },
  {
   "cell_type": "code",
   "execution_count": null,
   "metadata": {
    "id": "u56HU7opuZYT"
   },
   "outputs": [],
   "source": [
    "df.loc[dates[0]]"
   ]
  },
  {
   "cell_type": "code",
   "execution_count": null,
   "metadata": {
    "id": "4dh8iu3fuZYT"
   },
   "outputs": [],
   "source": [
    "df.loc[:, ['A', 'B']].head()"
   ]
  },
  {
   "cell_type": "code",
   "execution_count": null,
   "metadata": {
    "id": "JlqCVbkiuZYU"
   },
   "outputs": [],
   "source": [
    "df.loc['20200210':'20200215', ['A', 'B']]"
   ]
  },
  {
   "cell_type": "markdown",
   "metadata": {
    "id": "Dgx_cJSPuZYU"
   },
   "source": [
    "Reducción en las dimensiones del objeto devuelto"
   ]
  },
  {
   "cell_type": "code",
   "execution_count": null,
   "metadata": {
    "id": "-mwudbNcuZYU"
   },
   "outputs": [],
   "source": [
    "df.loc['20200210', ['A', 'B']]"
   ]
  },
  {
   "cell_type": "markdown",
   "metadata": {
    "id": "Re5apcFtuZYV"
   },
   "source": [
    "Para obtener un valor escalar"
   ]
  },
  {
   "cell_type": "code",
   "execution_count": null,
   "metadata": {
    "id": "7eAv0FRJuZYV"
   },
   "outputs": [],
   "source": [
    "df.loc['20200210','A']"
   ]
  },
  {
   "cell_type": "markdown",
   "metadata": {
    "id": "5OPLlQ4duZYW"
   },
   "source": [
    "### Selección por posición"
   ]
  },
  {
   "cell_type": "markdown",
   "metadata": {
    "id": "D8NH9Q3XuZYW"
   },
   "source": [
    "Con enteros"
   ]
  },
  {
   "cell_type": "code",
   "execution_count": null,
   "metadata": {
    "id": "IPFuqJvhuZYW"
   },
   "outputs": [],
   "source": [
    "df.iloc[3]"
   ]
  },
  {
   "cell_type": "markdown",
   "metadata": {
    "id": "hkgMOcRWuZYX"
   },
   "source": [
    "Con rango de enteros"
   ]
  },
  {
   "cell_type": "code",
   "execution_count": null,
   "metadata": {
    "id": "gbUd9y7zuZYX"
   },
   "outputs": [],
   "source": [
    "df.iloc[3:5, 0:2]"
   ]
  },
  {
   "cell_type": "markdown",
   "metadata": {
    "id": "FD9SCHNquZYX"
   },
   "source": [
    "Con listas de enteros"
   ]
  },
  {
   "cell_type": "code",
   "execution_count": null,
   "metadata": {
    "id": "cd1A2n7QuZYY"
   },
   "outputs": [],
   "source": [
    "df.iloc[[1, 2, 4], [0, 2]]"
   ]
  },
  {
   "cell_type": "markdown",
   "metadata": {
    "id": "Lv6i1EskuZYY"
   },
   "source": [
    "Seleccionar filas"
   ]
  },
  {
   "cell_type": "code",
   "execution_count": null,
   "metadata": {
    "id": "OWdEEQMhuZYY"
   },
   "outputs": [],
   "source": [
    "df.iloc[1:3, :]"
   ]
  },
  {
   "cell_type": "markdown",
   "metadata": {
    "id": "oMN24JfMuZYY"
   },
   "source": [
    "Seleccionar columnas"
   ]
  },
  {
   "cell_type": "code",
   "execution_count": null,
   "metadata": {
    "id": "gCO1QNDkuZYZ",
    "scrolled": true
   },
   "outputs": [],
   "source": [
    "df.iloc[:, 1:3]"
   ]
  },
  {
   "cell_type": "markdown",
   "metadata": {
    "id": "5Ut1pKT5uZYZ"
   },
   "source": [
    "Obtener un valor"
   ]
  },
  {
   "cell_type": "code",
   "execution_count": null,
   "metadata": {
    "id": "btuLTG_GuZYZ"
   },
   "outputs": [],
   "source": [
    "df.iloc[1, 1]"
   ]
  },
  {
   "cell_type": "code",
   "execution_count": null,
   "metadata": {
    "id": "GpONPS4RuZYa"
   },
   "outputs": [],
   "source": [
    "df.iat[1, 1]"
   ]
  },
  {
   "cell_type": "markdown",
   "metadata": {
    "id": "KONVKD7VuZYa"
   },
   "source": [
    "### Selección por condición"
   ]
  },
  {
   "cell_type": "code",
   "execution_count": null,
   "metadata": {
    "id": "8khEymCJuZYa"
   },
   "outputs": [],
   "source": [
    "df.head()"
   ]
  },
  {
   "cell_type": "code",
   "execution_count": null,
   "metadata": {
    "id": "95-g0yXsuZYb",
    "scrolled": true
   },
   "outputs": [],
   "source": [
    "df[(df['A'] > 0)&(df['C'] > 0)][['A','C']]"
   ]
  },
  {
   "cell_type": "code",
   "execution_count": null,
   "metadata": {
    "id": "prfU8EjZuZYb",
    "scrolled": true
   },
   "outputs": [],
   "source": [
    "df[df > 0]"
   ]
  },
  {
   "cell_type": "markdown",
   "metadata": {
    "id": "sgL6Z2LKuZYb"
   },
   "source": [
    "# Operaciones"
   ]
  },
  {
   "cell_type": "code",
   "execution_count": null,
   "metadata": {
    "id": "vVcqmXaluZYc",
    "scrolled": true
   },
   "outputs": [],
   "source": [
    "df.mean(axis=1)"
   ]
  },
  {
   "cell_type": "code",
   "execution_count": null,
   "metadata": {
    "id": "wLDdKmCJuZYc"
   },
   "outputs": [],
   "source": [
    "df.mean(0)"
   ]
  },
  {
   "cell_type": "code",
   "execution_count": null,
   "metadata": {
    "id": "b_2R1U9zuZYc"
   },
   "outputs": [],
   "source": [
    "# median\n",
    "# sum\n",
    "# max\n",
    "# min"
   ]
  },
  {
   "cell_type": "markdown",
   "metadata": {
    "id": "E8yWtPxluZYd"
   },
   "source": [
    "### Apply"
   ]
  },
  {
   "cell_type": "code",
   "execution_count": null,
   "metadata": {
    "id": "VsVfQiKvuZYd"
   },
   "outputs": [],
   "source": [
    "df.apply(lambda x: x.max() - x.min())"
   ]
  },
  {
   "cell_type": "code",
   "execution_count": null,
   "metadata": {
    "id": "etbNRn4VuZYd"
   },
   "outputs": [],
   "source": [
    "df.head()"
   ]
  },
  {
   "cell_type": "code",
   "execution_count": null,
   "metadata": {
    "id": "KROrG_AluZYe",
    "scrolled": true
   },
   "outputs": [],
   "source": [
    "df['A_2'] = df['A'].apply(lambda x: x**2)"
   ]
  },
  {
   "cell_type": "code",
   "execution_count": null,
   "metadata": {
    "id": "nsZiSWzkuZYe"
   },
   "outputs": [],
   "source": [
    "df.head()"
   ]
  },
  {
   "cell_type": "markdown",
   "metadata": {
    "id": "mCMcHwd_uZYe"
   },
   "source": [
    "# Unir"
   ]
  },
  {
   "cell_type": "markdown",
   "metadata": {
    "id": "6_7IIq3puZYf"
   },
   "source": [
    "### Concat"
   ]
  },
  {
   "cell_type": "code",
   "execution_count": null,
   "metadata": {
    "id": "-9OMkRBXuZYf"
   },
   "outputs": [],
   "source": [
    "df = pd.DataFrame(np.random.randn(10, 4))\n",
    "df"
   ]
  },
  {
   "cell_type": "code",
   "execution_count": null,
   "metadata": {
    "id": "NaOW8MS6uZYf"
   },
   "outputs": [],
   "source": [
    "df[:3]"
   ]
  },
  {
   "cell_type": "code",
   "execution_count": null,
   "metadata": {
    "id": "pCWiClEduZYg"
   },
   "outputs": [],
   "source": [
    "pd.concat([df[:3], df[3:7], df[7:]],axis=0)"
   ]
  },
  {
   "cell_type": "code",
   "execution_count": null,
   "metadata": {
    "id": "pJvkquYvuZYg"
   },
   "outputs": [],
   "source": [
    "pd.concat([df[:3], df[:3], df[:3]],axis=1,ignore_index=True)"
   ]
  },
  {
   "cell_type": "markdown",
   "metadata": {
    "id": "YcBBYnExuZYg"
   },
   "source": [
    "# Join"
   ]
  },
  {
   "cell_type": "markdown",
   "metadata": {},
   "source": [
    "![Imagen](https://www.upgrad.com/blog/wp-content/uploads/2020/09/Joins-in-SQL-Inner-Outer-Left-and-Right-Join.jpg)"
   ]
  },
  {
   "cell_type": "markdown",
   "metadata": {},
   "source": [
    "![Imagen](https://miro.medium.com/max/724/1*-I_1qa5TIiB5eNYxnodfAA.png)"
   ]
  },
  {
   "cell_type": "code",
   "execution_count": null,
   "metadata": {
    "id": "2kOjqZK9uZYh"
   },
   "outputs": [],
   "source": [
    "left = pd.DataFrame({'key': ['foo', 'bar','cat'], 'lval': [1, 2,3]})\n",
    "left"
   ]
  },
  {
   "cell_type": "code",
   "execution_count": null,
   "metadata": {
    "id": "k5uXghJPuZYh"
   },
   "outputs": [],
   "source": [
    "right = pd.DataFrame({'key': ['foo', 'bar','dog'], 'rval': [4, 5,6]})\n",
    "right"
   ]
  },
  {
   "cell_type": "markdown",
   "metadata": {
    "id": "d_vAK4PBuZYh"
   },
   "source": [
    "### Inner join"
   ]
  },
  {
   "cell_type": "code",
   "execution_count": null,
   "metadata": {
    "id": "zMf-Yc0duZYi"
   },
   "outputs": [],
   "source": [
    "pd.merge(left, right, how='inner', on='key')"
   ]
  },
  {
   "cell_type": "markdown",
   "metadata": {
    "id": "ag1e9yovuZYi"
   },
   "source": [
    "### Left join "
   ]
  },
  {
   "cell_type": "code",
   "execution_count": null,
   "metadata": {
    "id": "fxSDnSb_uZYi"
   },
   "outputs": [],
   "source": [
    "pd.merge(left, right, how='left', on='key')"
   ]
  },
  {
   "cell_type": "markdown",
   "metadata": {
    "id": "ZwNCuPU0uZYj"
   },
   "source": [
    "### Right join"
   ]
  },
  {
   "cell_type": "code",
   "execution_count": null,
   "metadata": {
    "id": "7gBeMy_XuZYj"
   },
   "outputs": [],
   "source": [
    "pd.merge(left, right, how='right', on=['key'])"
   ]
  },
  {
   "cell_type": "markdown",
   "metadata": {
    "id": "F-VHlTnSuZYj"
   },
   "source": [
    "# Grouping"
   ]
  },
  {
   "cell_type": "code",
   "execution_count": null,
   "metadata": {
    "id": "sSodTodouZYk"
   },
   "outputs": [],
   "source": [
    "df = pd.DataFrame({'A': ['foo', 'bar', 'foo', 'bar','foo', 'bar', 'foo', 'foo'],\n",
    "                   'B': ['one', 'one', 'two', 'three','two', 'two', 'one', 'three'],\n",
    "                   'C': np.random.randn(8),\n",
    "                   'D': np.random.randn(8)})\n",
    "df"
   ]
  },
  {
   "cell_type": "code",
   "execution_count": null,
   "metadata": {
    "id": "gXxBaYA8uZYk"
   },
   "outputs": [],
   "source": [
    "df.groupby('A').sum()"
   ]
  },
  {
   "cell_type": "code",
   "execution_count": null,
   "metadata": {
    "id": "fqROSpZtuZYl"
   },
   "outputs": [],
   "source": [
    "df.groupby('A').mean()"
   ]
  },
  {
   "cell_type": "code",
   "execution_count": null,
   "metadata": {
    "id": "z263HYs7uZYl"
   },
   "outputs": [],
   "source": [
    "df.groupby(['A', 'B']).max()"
   ]
  },
  {
   "cell_type": "markdown",
   "metadata": {
    "id": "ZlHFfFZhuZYl"
   },
   "source": [
    "# Pivot"
   ]
  },
  {
   "cell_type": "code",
   "execution_count": null,
   "metadata": {
    "id": "phw4B4N_uZYm"
   },
   "outputs": [],
   "source": [
    "df = pd.DataFrame({'A': ['one', 'one', 'two', 'three'] * 3,\n",
    "                   'B': ['A', 'B', 'C'] * 4,\n",
    "                   'C': ['foo', 'foo', 'foo', 'bar', 'bar', 'bar'] * 2,\n",
    "                   'D': np.random.randn(12),\n",
    "                   'E': np.random.randn(12)})\n",
    "df"
   ]
  },
  {
   "cell_type": "code",
   "execution_count": null,
   "metadata": {
    "id": "SVtlnYiKuZYm"
   },
   "outputs": [],
   "source": [
    "pd.pivot_table(df, values='D', index=['A'], columns=['C'],aggfunc='mean',fill_value=None)"
   ]
  },
  {
   "cell_type": "markdown",
   "metadata": {
    "id": "OwFaT08muZYm"
   },
   "source": [
    "# Eliminar"
   ]
  },
  {
   "cell_type": "code",
   "execution_count": null,
   "metadata": {
    "id": "FcO9VWshuZYn"
   },
   "outputs": [],
   "source": [
    "df.head()"
   ]
  },
  {
   "cell_type": "markdown",
   "metadata": {
    "id": "bb3k9r8luZYn"
   },
   "source": [
    "Eliminar fila"
   ]
  },
  {
   "cell_type": "code",
   "execution_count": null,
   "metadata": {
    "id": "8Zu_Ndb3uZYn",
    "scrolled": true
   },
   "outputs": [],
   "source": [
    "df.drop(0).head()"
   ]
  },
  {
   "cell_type": "markdown",
   "metadata": {
    "id": "lINBneKluZYo"
   },
   "source": [
    "Eliminar columna"
   ]
  },
  {
   "cell_type": "code",
   "execution_count": null,
   "metadata": {
    "id": "3asD2hOFuZYo"
   },
   "outputs": [],
   "source": [
    "df.drop(['A','B'],axis=1,inplace=True)"
   ]
  },
  {
   "cell_type": "code",
   "execution_count": null,
   "metadata": {
    "id": "pUbALGxZuZYp"
   },
   "outputs": [],
   "source": [
    "df"
   ]
  },
  {
   "cell_type": "code",
   "execution_count": null,
   "metadata": {
    "id": "iJqaIVj5uZYp"
   },
   "outputs": [],
   "source": []
  }
 ],
 "metadata": {
  "colab": {
   "collapsed_sections": [],
   "name": "0.4. Pandas.ipynb",
   "provenance": []
  },
  "kernelspec": {
   "display_name": "Python 3",
   "language": "python",
   "name": "python3"
  },
  "language_info": {
   "codemirror_mode": {
    "name": "ipython",
    "version": 3
   },
   "file_extension": ".py",
   "mimetype": "text/x-python",
   "name": "python",
   "nbconvert_exporter": "python",
   "pygments_lexer": "ipython3",
   "version": "3.8.3"
  }
 },
 "nbformat": 4,
 "nbformat_minor": 4
}
