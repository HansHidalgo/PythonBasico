{
 "cells": [
  {
   "cell_type": "markdown",
   "metadata": {},
   "source": [
    "# 1. LISTAS"
   ]
  },
  {
   "cell_type": "markdown",
   "metadata": {},
   "source": [
    "Para definir una, debe escribir los elementos entre corchetes separado por comas."
   ]
  },
  {
   "cell_type": "code",
   "execution_count": null,
   "metadata": {},
   "outputs": [],
   "source": [
    "colores = ['azul', 'rojo', 'verde', 'amarillo']\n",
    "print(colores)\n",
    "\n",
    "factura = ['pan', 'galletas', 100, 1234]\n",
    "print(factura)"
   ]
  },
  {
   "cell_type": "markdown",
   "metadata": {},
   "source": [
    "Acceder a un elemento por index.\n",
    "- 0: primer elemento\n",
    "- 1: segundo elemento\n",
    "- 2: tercer elemento"
   ]
  },
  {
   "cell_type": "code",
   "execution_count": null,
   "metadata": {},
   "outputs": [],
   "source": [
    "print(colores[0]) # primer elemento\n",
    "print(colores[1]) # segundo elemento"
   ]
  },
  {
   "cell_type": "markdown",
   "metadata": {},
   "source": [
    "Indexación negativa de la lista\n",
    "- -1: último elemento\n",
    "- -2: penúltimo elemento"
   ]
  },
  {
   "cell_type": "code",
   "execution_count": null,
   "metadata": {},
   "outputs": [],
   "source": [
    "print(colores[-1]) # último elemento\n",
    "print(colores[-2]) # penúltimo elemento"
   ]
  },
  {
   "cell_type": "markdown",
   "metadata": {},
   "source": [
    "#### Cortar un lista:\n",
    "\n",
    "El operador de sector [n: m] devuelve la parte de la lista desde el elemento \"n-ésimo\" al elemento \"m-ésimo\", incluido el primero pero excluyendo el último. "
   ]
  },
  {
   "cell_type": "code",
   "execution_count": null,
   "metadata": {},
   "outputs": [],
   "source": [
    "miLista = ['a', 'b', 'c', 'd', 'e', 'f']\n",
    "\n",
    "print(miLista[2:5])\n",
    "\n",
    "print(miLista[0:2])\n",
    "\n",
    "print(miLista[3:-1])"
   ]
  },
  {
   "cell_type": "markdown",
   "metadata": {},
   "source": [
    "Modificar un elemento de una lista."
   ]
  },
  {
   "cell_type": "code",
   "execution_count": null,
   "metadata": {},
   "outputs": [],
   "source": [
    "colores = ['azul', 'rojo', 'verde', 'amarillo']\n",
    "colores[1] = \"blanco\"\n",
    "\n",
    "print(colores)"
   ]
  },
  {
   "cell_type": "markdown",
   "metadata": {},
   "source": [
    "Agregar un elemento a la lista."
   ]
  },
  {
   "cell_type": "code",
   "execution_count": null,
   "metadata": {},
   "outputs": [],
   "source": [
    "colores = ['azul', 'rojo', 'verde', 'amarillo']\n",
    "\n",
    "colores.append('blanco')\n",
    "\n",
    "print(colores)"
   ]
  },
  {
   "cell_type": "markdown",
   "metadata": {},
   "source": [
    "Combinar listas.\n",
    "Como primera opción se usa la función *extend*"
   ]
  },
  {
   "cell_type": "code",
   "execution_count": null,
   "metadata": {},
   "outputs": [],
   "source": [
    "colores = ['azul', 'rojo', 'verde', 'amarillo']\n",
    "colores.extend([1 , 2, 3])\n",
    "\n",
    "print(colores)"
   ]
  },
  {
   "cell_type": "markdown",
   "metadata": {},
   "source": [
    "Combinar listas.\n",
    "Como segunda opción se usa el operador *+*"
   ]
  },
  {
   "cell_type": "code",
   "execution_count": null,
   "metadata": {},
   "outputs": [],
   "source": [
    "miLista = ['azul', 'rojo', 'verde', 'amarillo']\n",
    "miLista = miLista + [1 , 2, 3]\n",
    "\n",
    "print(miLista)"
   ]
  },
  {
   "cell_type": "code",
   "execution_count": null,
   "metadata": {},
   "outputs": [],
   "source": [
    "miLista = ['azul', 'rojo', 'verde', 'amarillo']\n",
    "miLista += [1 , 2, 3]\n",
    "\n",
    "print(miLista)"
   ]
  },
  {
   "cell_type": "markdown",
   "metadata": {},
   "source": [
    "Remover un elemento por index."
   ]
  },
  {
   "cell_type": "code",
   "execution_count": null,
   "metadata": {},
   "outputs": [],
   "source": [
    "miLista = ['azul', 'rojo', 'verde', 'amarillo']\n",
    "miLista_2 = miLista.pop(1)\n",
    "\n",
    "print(miLista) # lista con el elemento eliminado\n",
    "print(miLista_2) # elemento eliminado"
   ]
  },
  {
   "cell_type": "markdown",
   "metadata": {},
   "source": [
    "Remover un elemento por index, opción 2."
   ]
  },
  {
   "cell_type": "code",
   "execution_count": null,
   "metadata": {},
   "outputs": [],
   "source": [
    "miLista = ['azul', 'rojo', 'verde', 'amarillo']\n",
    "\n",
    "del miLista[1]\n",
    "print(miLista)"
   ]
  },
  {
   "cell_type": "markdown",
   "metadata": {},
   "source": [
    "Remover varios elementos."
   ]
  },
  {
   "cell_type": "code",
   "execution_count": null,
   "metadata": {},
   "outputs": [],
   "source": [
    "miLista = ['azul', 'rojo', 'verde', 'amarillo']\n",
    "\n",
    "del miLista[1:3]\n",
    "print(miLista)"
   ]
  },
  {
   "cell_type": "markdown",
   "metadata": {},
   "source": [
    "Remover un elemento por valor."
   ]
  },
  {
   "cell_type": "code",
   "execution_count": null,
   "metadata": {},
   "outputs": [],
   "source": [
    "miLista = ['azul', 'rojo', 'verde', 'amarillo']\n",
    "\n",
    "miLista.remove('rojo')\n",
    "print(miLista)"
   ]
  },
  {
   "cell_type": "markdown",
   "metadata": {},
   "source": [
    "Remover todos los elementos."
   ]
  },
  {
   "cell_type": "code",
   "execution_count": null,
   "metadata": {},
   "outputs": [],
   "source": [
    "miLista = ['azul', 'rojo', 'verde', 'amarillo']\n",
    "\n",
    "miLista.clear()\n",
    "print(miLista)"
   ]
  },
  {
   "cell_type": "markdown",
   "metadata": {},
   "source": [
    "Cantidad de elementos."
   ]
  },
  {
   "cell_type": "code",
   "execution_count": null,
   "metadata": {},
   "outputs": [],
   "source": [
    "miLista = ['azul', 'rojo', 'verde', 'amarillo']\n",
    "\n",
    "print( len(miLista) )"
   ]
  },
  {
   "cell_type": "markdown",
   "metadata": {
    "tags": []
   },
   "source": [
    "# 2. TUPLAS"
   ]
  },
  {
   "cell_type": "markdown",
   "metadata": {},
   "source": [
    "Son objetos de tipo secuencia inmutable. Estas no pueden modificarse de ningún modo después de su creación."
   ]
  },
  {
   "cell_type": "code",
   "execution_count": null,
   "metadata": {},
   "outputs": [],
   "source": [
    "colores = ('azul', 'rojo', 'verde', 'amarillo')\n",
    "print(\"colores =\", colores)\n",
    "\n",
    "valores = (5, \"cadena\", 7.5)\n",
    "print(\"valores =\", valores)"
   ]
  },
  {
   "cell_type": "markdown",
   "metadata": {},
   "source": [
    "No es necesario usar los paréntesis para declarar una tupla."
   ]
  },
  {
   "cell_type": "code",
   "execution_count": null,
   "metadata": {},
   "outputs": [],
   "source": [
    "valores = 5, \"cadena\", 7.5\n",
    "print(\"valores =\", valores)"
   ]
  },
  {
   "cell_type": "markdown",
   "metadata": {},
   "source": [
    "Declarar un tupla con el constructor *tuple()*. Convertir una lista a tupla."
   ]
  },
  {
   "cell_type": "code",
   "execution_count": null,
   "metadata": {},
   "outputs": [],
   "source": [
    "colores = tuple( ['azul', 'rojo', 'verde', 'amarillo'] )\n",
    "print(\"colores =\", colores)"
   ]
  },
  {
   "cell_type": "markdown",
   "metadata": {},
   "source": [
    "Tuple Unpacking"
   ]
  },
  {
   "cell_type": "code",
   "execution_count": null,
   "metadata": {},
   "outputs": [],
   "source": [
    "colores = ('azul', 'rojo', 'verde', 'amarillo')\n",
    "\n",
    "(color_1, color_2, color_3, color_4) = colores\n",
    "\n",
    "print(color_1)\n",
    "print(color_2)\n",
    "print(color_3)\n",
    "print(color_4)"
   ]
  },
  {
   "cell_type": "markdown",
   "metadata": {},
   "source": [
    "Acceder a un elemento por index."
   ]
  },
  {
   "cell_type": "code",
   "execution_count": null,
   "metadata": {},
   "outputs": [],
   "source": [
    "colores = ('azul', 'rojo', 'verde', 'amarillo')\n",
    "\n",
    "print(colores[1])\n",
    "print(colores[-2])"
   ]
  },
  {
   "cell_type": "markdown",
   "metadata": {},
   "source": [
    "#### Cortar un lista:\n",
    "\n",
    "El operador de sector [n: m] devuelve la parte de la lista desde el elemento \"n-ésimo\" al elemento \"m-ésimo\", incluido el primero pero excluyendo el último. "
   ]
  },
  {
   "cell_type": "code",
   "execution_count": null,
   "metadata": {},
   "outputs": [],
   "source": [
    "colores = ('azul', 'rojo', 'verde', 'amarillo')\n",
    "\n",
    "print(colores[1:3])"
   ]
  },
  {
   "cell_type": "markdown",
   "metadata": {},
   "source": [
    "Cambiar un elemento de la tupla."
   ]
  },
  {
   "cell_type": "code",
   "execution_count": null,
   "metadata": {},
   "outputs": [],
   "source": [
    "colores = ('azul', 'rojo', 'verde', 'amarillo')\n",
    "\n",
    "colores[1] = 'blanco'"
   ]
  },
  {
   "cell_type": "markdown",
   "metadata": {},
   "source": [
    "Eliminar un elemento de la tupla."
   ]
  },
  {
   "cell_type": "code",
   "execution_count": null,
   "metadata": {},
   "outputs": [],
   "source": [
    "colores = ('azul', 'rojo', 'verde', 'amarillo')\n",
    "\n",
    "del colores[1]"
   ]
  },
  {
   "cell_type": "markdown",
   "metadata": {},
   "source": [
    "Eliminar una tupla."
   ]
  },
  {
   "cell_type": "code",
   "execution_count": null,
   "metadata": {},
   "outputs": [],
   "source": [
    "colores = ('azul', 'rojo', 'verde', 'amarillo')\n",
    "\n",
    "del colores"
   ]
  },
  {
   "cell_type": "markdown",
   "metadata": {},
   "source": [
    "Cantidad de elementos de tupla."
   ]
  },
  {
   "cell_type": "code",
   "execution_count": null,
   "metadata": {},
   "outputs": [],
   "source": [
    "colores = ('azul', 'rojo', 'verde', 'amarillo')\n",
    "\n",
    "print(len(colores))"
   ]
  },
  {
   "cell_type": "markdown",
   "metadata": {},
   "source": [
    "# 3. Conjuntos"
   ]
  },
  {
   "cell_type": "markdown",
   "metadata": {},
   "source": [
    "Un conjunto, es una colección no ordenada y sin elementos repetidos. Los usos básicos de éstos incluyen verificación de pertenencia y eliminación de entradas duplicadas."
   ]
  },
  {
   "cell_type": "code",
   "execution_count": null,
   "metadata": {},
   "outputs": [],
   "source": [
    "colores = {'azul', 'rojo', 'verde', 'amarillo'}\n",
    "print(\"colores =\", colores)\n",
    "\n",
    "valores = {5, \"cadena\", 7.5}\n",
    "print(\"valores =\", valores)"
   ]
  },
  {
   "cell_type": "markdown",
   "metadata": {},
   "source": [
    "Los conjuntos no permiten duplicados. Se eliminan automáticamente durante la creación de un conjunto."
   ]
  },
  {
   "cell_type": "code",
   "execution_count": null,
   "metadata": {},
   "outputs": [],
   "source": [
    "colores = {'azul', 'rojo', 'verde', 'amarillo', 'azul', 'rojo'}\n",
    "print(\"colores =\", colores)"
   ]
  },
  {
   "cell_type": "markdown",
   "metadata": {},
   "source": [
    "Declarar un conjunto con el constructor *set()*."
   ]
  },
  {
   "cell_type": "code",
   "execution_count": null,
   "metadata": {},
   "outputs": [],
   "source": [
    "S = set('abc')\n",
    "print(S)\n",
    "\n",
    "S = set(range(0, 4))\n",
    "print(S)\n",
    "\n",
    "S = set([1, 2, 3])\n",
    "print(S)"
   ]
  },
  {
   "cell_type": "markdown",
   "metadata": {},
   "source": [
    "Agregar un elemento al conjunto."
   ]
  },
  {
   "cell_type": "code",
   "execution_count": null,
   "metadata": {},
   "outputs": [],
   "source": [
    "colores = {'azul', 'rojo', 'verde', 'amarillo'}\n",
    "colores.add('blanco')\n",
    "\n",
    "print(\"colores =\", colores)"
   ]
  },
  {
   "cell_type": "markdown",
   "metadata": {},
   "source": [
    "Agregar varios elementos al conjunto."
   ]
  },
  {
   "cell_type": "code",
   "execution_count": null,
   "metadata": {},
   "outputs": [],
   "source": [
    "colores = {'azul', 'rojo', 'verde', 'amarillo'}\n",
    "colores.update(['blanco', 'naranja'])\n",
    "\n",
    "print(\"colores =\", colores)"
   ]
  },
  {
   "cell_type": "markdown",
   "metadata": {},
   "source": [
    "Eliminar elementos de un conjunto."
   ]
  },
  {
   "cell_type": "code",
   "execution_count": null,
   "metadata": {},
   "outputs": [],
   "source": [
    "colores = {'azul', 'rojo', 'verde', 'amarillo'}\n",
    "colores.remove('rojo')\n",
    "\n",
    "print(\"colores =\", colores)"
   ]
  },
  {
   "cell_type": "markdown",
   "metadata": {},
   "source": [
    "Cantidad de elementos de tupla."
   ]
  },
  {
   "cell_type": "code",
   "execution_count": null,
   "metadata": {},
   "outputs": [],
   "source": [
    "colores = {'azul', 'rojo', 'verde', 'amarillo'}\n",
    "\n",
    "print(len(colores))"
   ]
  },
  {
   "cell_type": "markdown",
   "metadata": {},
   "source": [
    "# 4. DICCIONARIOS"
   ]
  },
  {
   "cell_type": "markdown",
   "metadata": {},
   "source": [
    "El diccionario, define una relación uno a uno entre claves y valores. Pueden ser creados colocando una lista separada por coma de pares «key:value» entre {}"
   ]
  },
  {
   "cell_type": "code",
   "execution_count": null,
   "metadata": {},
   "outputs": [],
   "source": [
    "diccionario = {'name': 'Bob',\n",
    "                 'age': 25,\n",
    "                 'job': 'Dev',\n",
    "                 'city': 'New York',\n",
    "                 'email': 'bob@web.com'}\n",
    "\n",
    "\n",
    "print(diccionario)"
   ]
  },
  {
   "cell_type": "markdown",
   "metadata": {},
   "source": [
    "Declarar un diccionario con el constructor *dict()*."
   ]
  },
  {
   "cell_type": "code",
   "execution_count": null,
   "metadata": {},
   "outputs": [],
   "source": [
    "miLista = [('name', 'Bob'),\n",
    "         ('age', 25),\n",
    "         ('job', 'Dev')]\n",
    "\n",
    "diccionario = dict(miLista)\n",
    "\n",
    "print(diccionario)"
   ]
  },
  {
   "cell_type": "code",
   "execution_count": null,
   "metadata": {},
   "outputs": [],
   "source": [
    "miTupla = (['name', 'Bob'],\n",
    "         ['age', 25],\n",
    "         ['job', 'Dev'])\n",
    "\n",
    "diccionario = dict(miTupla)\n",
    "\n",
    "print(diccionario)"
   ]
  },
  {
   "cell_type": "code",
   "execution_count": null,
   "metadata": {},
   "outputs": [],
   "source": [
    "diccionario = dict(name = 'Bob',\n",
    "                     age = 25,\n",
    "                     job = 'Dev')\n",
    "\n",
    "print(diccionario)"
   ]
  },
  {
   "cell_type": "markdown",
   "metadata": {},
   "source": [
    "Las llaves deben ser únicas."
   ]
  },
  {
   "cell_type": "code",
   "execution_count": null,
   "metadata": {},
   "outputs": [],
   "source": [
    "diccionario = {'name': 'Bob',\n",
    "             'age': 25,\n",
    "             'name': 'Jane'}\n",
    "\n",
    "print(diccionario)"
   ]
  },
  {
   "cell_type": "markdown",
   "metadata": {},
   "source": [
    "Las llaves deben ser inmutables."
   ]
  },
  {
   "cell_type": "code",
   "execution_count": null,
   "metadata": {},
   "outputs": [],
   "source": [
    "diccionario = {(2,2): 25,\n",
    "             True: 'a',\n",
    "             'name': 'Bob'}\n",
    "\n",
    "print(diccionario)"
   ]
  },
  {
   "cell_type": "code",
   "execution_count": null,
   "metadata": {},
   "outputs": [],
   "source": [
    "## Una lista no es inmutable\n",
    "\n",
    "diccionario = {[2,2]: 25,\n",
    "                 'name': 'Bob'}\n",
    "\n",
    "print(diccionario)"
   ]
  },
  {
   "cell_type": "markdown",
   "metadata": {},
   "source": [
    "Los valores pueden ser de cualquier tipo."
   ]
  },
  {
   "cell_type": "code",
   "execution_count": null,
   "metadata": {},
   "outputs": [],
   "source": [
    "diccionario = {'a':[1,2,3],\n",
    "                 'b':{1,2,3}}\n",
    "\n",
    "print(diccionario)"
   ]
  },
  {
   "cell_type": "code",
   "execution_count": null,
   "metadata": {},
   "outputs": [],
   "source": [
    "diccionario = {'a':[1,2],\n",
    "             'b':[1,2],\n",
    "             'c':[1,2]}\n",
    "\n",
    "print(diccionario)"
   ]
  },
  {
   "cell_type": "markdown",
   "metadata": {},
   "source": [
    "Acceder al valor de una llave."
   ]
  },
  {
   "cell_type": "code",
   "execution_count": null,
   "metadata": {},
   "outputs": [],
   "source": [
    "diccionario = {'name': 'Bob',\n",
    "             'age': 25,\n",
    "             'job': 'Dev'}\n",
    "\n",
    "print(diccionario['name'])"
   ]
  },
  {
   "cell_type": "markdown",
   "metadata": {},
   "source": [
    "Modificar un valor."
   ]
  },
  {
   "cell_type": "code",
   "execution_count": null,
   "metadata": {},
   "outputs": [],
   "source": [
    "diccionario = {'name': 'Bob',\n",
    "             'age': 25,\n",
    "             'job': 'Dev'}\n",
    "\n",
    "diccionario['name'] = 'Sam'\n",
    "\n",
    "print(diccionario)"
   ]
  },
  {
   "cell_type": "markdown",
   "metadata": {},
   "source": [
    "Agregar elementos."
   ]
  },
  {
   "cell_type": "code",
   "execution_count": null,
   "metadata": {},
   "outputs": [],
   "source": [
    "diccionario = {'name': 'Bob',\n",
    "                 'age': 25,\n",
    "                 'job': 'Dev'}\n",
    "\n",
    "diccionario['city'] = 'New York'\n",
    "\n",
    "print(diccionario)"
   ]
  },
  {
   "cell_type": "markdown",
   "metadata": {},
   "source": [
    "Remover un elemento de un diccionario."
   ]
  },
  {
   "cell_type": "code",
   "execution_count": null,
   "metadata": {},
   "outputs": [],
   "source": [
    "diccionario = {'name': 'Bob',\n",
    "                 'age': 25,\n",
    "                 'job': 'Dev'}\n",
    "\n",
    "x = diccionario.pop('age')\n",
    "\n",
    "print(diccionario)\n",
    "print(x)"
   ]
  },
  {
   "cell_type": "code",
   "execution_count": null,
   "metadata": {},
   "outputs": [],
   "source": [
    "diccionario = {'name': 'Bob',\n",
    "                 'age': 25,\n",
    "                 'job': 'Dev'}\n",
    "\n",
    "del diccionario['age']\n",
    "print(diccionario)"
   ]
  },
  {
   "cell_type": "markdown",
   "metadata": {},
   "source": [
    "Eliminar todos los elementos."
   ]
  },
  {
   "cell_type": "code",
   "execution_count": null,
   "metadata": {},
   "outputs": [],
   "source": [
    "diccionario = {'name': 'Bob',\n",
    "             'age': 25,\n",
    "             'job': 'Dev'}\n",
    "\n",
    "diccionario.clear()\n",
    "print(diccionario)"
   ]
  },
  {
   "cell_type": "markdown",
   "metadata": {},
   "source": [
    "Obtener las llaves."
   ]
  },
  {
   "cell_type": "code",
   "execution_count": null,
   "metadata": {},
   "outputs": [],
   "source": [
    "diccionario = {'name': 'Bob',\n",
    "                 'age': 25,\n",
    "                 'job': 'Dev'}\n",
    "\n",
    "print(list(diccionario.keys()))"
   ]
  },
  {
   "cell_type": "markdown",
   "metadata": {},
   "source": [
    "Obtener todos los valores."
   ]
  },
  {
   "cell_type": "code",
   "execution_count": null,
   "metadata": {},
   "outputs": [],
   "source": [
    "print(list(diccionario.values()))"
   ]
  },
  {
   "cell_type": "markdown",
   "metadata": {},
   "source": [
    "Obtener todos los pares."
   ]
  },
  {
   "cell_type": "code",
   "execution_count": null,
   "metadata": {},
   "outputs": [],
   "source": [
    "print(list(diccionario.items()))"
   ]
  },
  {
   "cell_type": "markdown",
   "metadata": {},
   "source": [
    "# 4. EJERCICIOS"
   ]
  },
  {
   "cell_type": "markdown",
   "metadata": {},
   "source": [
    "1. Crear una lista de elementos con los primeras 5 letras del abecedario.\n",
    "2. Seleccionar el tercer y quinto elemento de la lista.\n",
    "3. Modificar la letra 'c' por la letra 'z'.\n",
    "4. Eliminar la cuarta letra de la lista.\n",
    "5. Covertir la lista en una tupla.\n",
    "6. Seleccionar los tres primeros elementos de la tupla.\n",
    "7. Covertir la lista en un conjunto.\n",
    "8. Añadir las tres última letras del abecedario al conjunto.\n",
    "9. Crear un diccionario en el cual las llaves son las vocales y los valores los números del 1 al 5.\n",
    "10. Borrar todos los elementos del diccionario."
   ]
  }
 ],
 "metadata": {
  "kernelspec": {
   "display_name": "Python 3",
   "language": "python",
   "name": "python3"
  },
  "language_info": {
   "codemirror_mode": {
    "name": "ipython",
    "version": 3
   },
   "file_extension": ".py",
   "mimetype": "text/x-python",
   "name": "python",
   "nbconvert_exporter": "python",
   "pygments_lexer": "ipython3",
   "version": "3.8.3"
  }
 },
 "nbformat": 4,
 "nbformat_minor": 4
}
