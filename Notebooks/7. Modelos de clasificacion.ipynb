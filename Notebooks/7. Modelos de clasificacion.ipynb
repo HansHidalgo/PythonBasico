{
 "cells": [
  {
   "cell_type": "code",
   "execution_count": null,
   "metadata": {
    "executionInfo": {
     "elapsed": 2121,
     "status": "ok",
     "timestamp": 1614136580481,
     "user": {
      "displayName": "HANS MARLON HIDALGO ALTA",
      "photoUrl": "",
      "userId": "05309271216459286445"
     },
     "user_tz": 300
    },
    "id": "XELUaLQKBsKD"
   },
   "outputs": [],
   "source": [
    "import pandas as pd\r\n",
    "import numpy as np\r\n",
    "import matplotlib.pyplot as plt\r\n",
    "%matplotlib inline\r\n",
    "import seaborn as sns"
   ]
  },
  {
   "cell_type": "code",
   "execution_count": null,
   "metadata": {},
   "outputs": [],
   "source": [
    "import plotly.express as px\n",
    "plt.rcParams[\"figure.figsize\"] = 15,5\n",
    "pd.set_option('display.max_columns', 500)"
   ]
  },
  {
   "cell_type": "markdown",
   "metadata": {
    "id": "g8W0xWn1CqaZ"
   },
   "source": [
    "# Lectura de datos"
   ]
  },
  {
   "cell_type": "code",
   "execution_count": null,
   "metadata": {
    "executionInfo": {
     "elapsed": 774,
     "status": "ok",
     "timestamp": 1614136753244,
     "user": {
      "displayName": "HANS MARLON HIDALGO ALTA",
      "photoUrl": "",
      "userId": "05309271216459286445"
     },
     "user_tz": 300
    },
    "id": "gskpnGvgCd49"
   },
   "outputs": [],
   "source": [
    "dataset= pd.read_csv('../Data/telco_churn.csv', sep='|')"
   ]
  },
  {
   "cell_type": "code",
   "execution_count": null,
   "metadata": {
    "colab": {
     "base_uri": "https://localhost:8080/",
     "height": 313
    },
    "executionInfo": {
     "elapsed": 784,
     "status": "ok",
     "timestamp": 1614136754553,
     "user": {
      "displayName": "HANS MARLON HIDALGO ALTA",
      "photoUrl": "",
      "userId": "05309271216459286445"
     },
     "user_tz": 300
    },
    "id": "g2gtY4jTC9Vl",
    "outputId": "c34c994c-00f5-45dd-a99d-9da14adf887b"
   },
   "outputs": [],
   "source": [
    "dataset.head()"
   ]
  },
  {
   "cell_type": "markdown",
   "metadata": {
    "id": "IKrValdgDRoI"
   },
   "source": [
    "### Target"
   ]
  },
  {
   "cell_type": "code",
   "execution_count": null,
   "metadata": {
    "colab": {
     "base_uri": "https://localhost:8080/"
    },
    "executionInfo": {
     "elapsed": 656,
     "status": "ok",
     "timestamp": 1614136849845,
     "user": {
      "displayName": "HANS MARLON HIDALGO ALTA",
      "photoUrl": "",
      "userId": "05309271216459286445"
     },
     "user_tz": 300
    },
    "id": "aCppPP5mC_eW",
    "outputId": "f8d2cce9-2c26-4f3b-bb45-f7dfc58acc7d"
   },
   "outputs": [],
   "source": [
    "dataset['churn'].value_counts()*100/dataset.shape[0]"
   ]
  },
  {
   "cell_type": "markdown",
   "metadata": {
    "id": "BKnyAevmDeai"
   },
   "source": [
    "Target a variable numérico"
   ]
  },
  {
   "cell_type": "code",
   "execution_count": null,
   "metadata": {
    "executionInfo": {
     "elapsed": 707,
     "status": "ok",
     "timestamp": 1614136880971,
     "user": {
      "displayName": "HANS MARLON HIDALGO ALTA",
      "photoUrl": "",
      "userId": "05309271216459286445"
     },
     "user_tz": 300
    },
    "id": "KmesYr1jDbLt"
   },
   "outputs": [],
   "source": [
    "dataset['churn'] = dataset['churn'].apply(lambda x: 1 if x==True else 0)"
   ]
  },
  {
   "cell_type": "code",
   "execution_count": null,
   "metadata": {
    "colab": {
     "base_uri": "https://localhost:8080/"
    },
    "executionInfo": {
     "elapsed": 666,
     "status": "ok",
     "timestamp": 1614136885929,
     "user": {
      "displayName": "HANS MARLON HIDALGO ALTA",
      "photoUrl": "",
      "userId": "05309271216459286445"
     },
     "user_tz": 300
    },
    "id": "tX7ZU9goDgcc",
    "outputId": "0bd7fc62-9ad3-4978-c26c-d5de3f15c07e"
   },
   "outputs": [],
   "source": [
    "dataset['churn'].value_counts()*100/dataset.shape[0]"
   ]
  },
  {
   "cell_type": "markdown",
   "metadata": {
    "id": "s-Mjy1BVDvm2"
   },
   "source": [
    "### Variable categóricas"
   ]
  },
  {
   "cell_type": "markdown",
   "metadata": {
    "id": "qwnWPNVND1ap"
   },
   "source": [
    "Elimnar número de celular"
   ]
  },
  {
   "cell_type": "code",
   "execution_count": null,
   "metadata": {
    "executionInfo": {
     "elapsed": 1082,
     "status": "ok",
     "timestamp": 1614136968293,
     "user": {
      "displayName": "HANS MARLON HIDALGO ALTA",
      "photoUrl": "",
      "userId": "05309271216459286445"
     },
     "user_tz": 300
    },
    "id": "9jyZz-LfDj_M"
   },
   "outputs": [],
   "source": [
    "dataset.drop('phone number', axis=1, inplace=True)"
   ]
  },
  {
   "cell_type": "markdown",
   "metadata": {
    "id": "x6EMcyDgD5-x"
   },
   "source": [
    "Las variables 'international plan' y 'voice mail plan' solo tienen dos posibles valores, los combiaremos a una variable binaria."
   ]
  },
  {
   "cell_type": "code",
   "execution_count": null,
   "metadata": {
    "executionInfo": {
     "elapsed": 872,
     "status": "ok",
     "timestamp": 1614136999121,
     "user": {
      "displayName": "HANS MARLON HIDALGO ALTA",
      "photoUrl": "",
      "userId": "05309271216459286445"
     },
     "user_tz": 300
    },
    "id": "Tn36-lJ3D3_s"
   },
   "outputs": [],
   "source": [
    "dataset['international plan'] = dataset['international plan'].apply(lambda x: 1 if x=='yes' else 0)"
   ]
  },
  {
   "cell_type": "code",
   "execution_count": null,
   "metadata": {
    "executionInfo": {
     "elapsed": 547,
     "status": "ok",
     "timestamp": 1614136999125,
     "user": {
      "displayName": "HANS MARLON HIDALGO ALTA",
      "photoUrl": "",
      "userId": "05309271216459286445"
     },
     "user_tz": 300
    },
    "id": "TaKkPCgVD9WW"
   },
   "outputs": [],
   "source": [
    "dataset['voice mail plan'] = dataset['voice mail plan'].apply(lambda x: 1 if x=='yes' else 0)"
   ]
  },
  {
   "cell_type": "markdown",
   "metadata": {
    "id": "2oToJsXJEyFL"
   },
   "source": [
    "### Variables para el modelo"
   ]
  },
  {
   "cell_type": "code",
   "execution_count": null,
   "metadata": {
    "executionInfo": {
     "elapsed": 1508,
     "status": "ok",
     "timestamp": 1614137185089,
     "user": {
      "displayName": "HANS MARLON HIDALGO ALTA",
      "photoUrl": "",
      "userId": "05309271216459286445"
     },
     "user_tz": 300
    },
    "id": "BDM7EU7CENUz"
   },
   "outputs": [],
   "source": [
    "dataset = dataset[['international plan','voice mail plan', 'number vmail messages', 'total day minutes','total day calls', 'total day charge', 'total eve minutes','total eve calls', 'total eve charge', 'total night minutes','total night calls', 'total night charge', 'total intl minutes', 'total intl calls', 'total intl charge', 'customer service calls', 'churn']].copy()"
   ]
  },
  {
   "cell_type": "markdown",
   "metadata": {
    "id": "JflMzIGjE5hk"
   },
   "source": [
    "### Variables correlacionadas"
   ]
  },
  {
   "cell_type": "code",
   "execution_count": null,
   "metadata": {
    "executionInfo": {
     "elapsed": 1081,
     "status": "ok",
     "timestamp": 1614137290752,
     "user": {
      "displayName": "HANS MARLON HIDALGO ALTA",
      "photoUrl": "",
      "userId": "05309271216459286445"
     },
     "user_tz": 300
    },
    "id": "xOlWgxDaEgi-"
   },
   "outputs": [],
   "source": [
    "matriz_correlacion = dataset.corr()"
   ]
  },
  {
   "cell_type": "code",
   "execution_count": null,
   "metadata": {
    "colab": {
     "base_uri": "https://localhost:8080/",
     "height": 846
    },
    "executionInfo": {
     "elapsed": 2328,
     "status": "ok",
     "timestamp": 1614137298229,
     "user": {
      "displayName": "HANS MARLON HIDALGO ALTA",
      "photoUrl": "",
      "userId": "05309271216459286445"
     },
     "user_tz": 300
    },
    "id": "OoUxkyoBFGt1",
    "outputId": "c8acd5df-30b4-4ed6-fb45-faf98a1500e1"
   },
   "outputs": [],
   "source": [
    "# Generate a mask for the upper triangle\r\n",
    "mask = np.zeros_like(matriz_correlacion, dtype=np.bool)\r\n",
    "mask[np.triu_indices_from(mask)] = True\r\n",
    "\r\n",
    "# Set up the matplotlib figure\r\n",
    "f, ax = plt.subplots(figsize=(15, 15))\r\n",
    "\r\n",
    "# Generate a custom diverging colormap\r\n",
    "cmap = sns.diverging_palette(220, 10, as_cmap=True)\r\n",
    "\r\n",
    "# Draw the heatmap with the mask and correct aspect ratio\r\n",
    "sns.heatmap(matriz_correlacion, mask=mask, cmap=cmap, vmax=.3, center=0,\r\n",
    "            square=True, linewidths=.5, cbar_kws={\"shrink\": .5},annot=True,fmt='.2f')"
   ]
  },
  {
   "cell_type": "markdown",
   "metadata": {
    "id": "oGpnoR2mFSJ2"
   },
   "source": [
    "Correlación de todas las variables"
   ]
  },
  {
   "cell_type": "code",
   "execution_count": null,
   "metadata": {
    "executionInfo": {
     "elapsed": 691,
     "status": "ok",
     "timestamp": 1614137350722,
     "user": {
      "displayName": "HANS MARLON HIDALGO ALTA",
      "photoUrl": "",
      "userId": "05309271216459286445"
     },
     "user_tz": 300
    },
    "id": "BTcJ0bLEFIPM"
   },
   "outputs": [],
   "source": [
    "corr_matrix = dataset.corr().abs()"
   ]
  },
  {
   "cell_type": "markdown",
   "metadata": {
    "id": "du4KQyLVFW9I"
   },
   "source": [
    "Obtener todas las variables con una correlación mayor a 0.9"
   ]
  },
  {
   "cell_type": "code",
   "execution_count": null,
   "metadata": {
    "executionInfo": {
     "elapsed": 917,
     "status": "ok",
     "timestamp": 1614137364332,
     "user": {
      "displayName": "HANS MARLON HIDALGO ALTA",
      "photoUrl": "",
      "userId": "05309271216459286445"
     },
     "user_tz": 300
    },
    "id": "r41q-pWPFVdU"
   },
   "outputs": [],
   "source": [
    "high_corr_var=np.where(corr_matrix>0.9)"
   ]
  },
  {
   "cell_type": "code",
   "execution_count": null,
   "metadata": {
    "executionInfo": {
     "elapsed": 644,
     "status": "ok",
     "timestamp": 1614137369318,
     "user": {
      "displayName": "HANS MARLON HIDALGO ALTA",
      "photoUrl": "",
      "userId": "05309271216459286445"
     },
     "user_tz": 300
    },
    "id": "BK50IcjcFYub"
   },
   "outputs": [],
   "source": [
    "high_corr_var=[(corr_matrix.columns[x],corr_matrix.columns[y]) for x,y in zip(*high_corr_var) if x!=y and x<y]"
   ]
  },
  {
   "cell_type": "code",
   "execution_count": null,
   "metadata": {
    "colab": {
     "base_uri": "https://localhost:8080/"
    },
    "executionInfo": {
     "elapsed": 669,
     "status": "ok",
     "timestamp": 1614137374379,
     "user": {
      "displayName": "HANS MARLON HIDALGO ALTA",
      "photoUrl": "",
      "userId": "05309271216459286445"
     },
     "user_tz": 300
    },
    "id": "fcjjaKRxFaAU",
    "outputId": "6482e30d-e13a-467a-efe6-069649689ba2"
   },
   "outputs": [],
   "source": [
    "high_corr_var"
   ]
  },
  {
   "cell_type": "markdown",
   "metadata": {
    "id": "ovkZxSlZFcNx"
   },
   "source": [
    "Eliminaremos la columna 'voice mail plan', 'total day charge', 'total eve charge','total night charge' y 'total intl charge'"
   ]
  },
  {
   "cell_type": "code",
   "execution_count": null,
   "metadata": {
    "executionInfo": {
     "elapsed": 1090,
     "status": "ok",
     "timestamp": 1614137407204,
     "user": {
      "displayName": "HANS MARLON HIDALGO ALTA",
      "photoUrl": "",
      "userId": "05309271216459286445"
     },
     "user_tz": 300
    },
    "id": "TRDMHXCuFbPT"
   },
   "outputs": [],
   "source": [
    "dataset.drop([ 'voice mail plan','total day charge','total eve charge','total night charge','total intl charge'],axis=1, inplace=True)"
   ]
  },
  {
   "cell_type": "markdown",
   "metadata": {
    "id": "wKj7xv3UFmRV"
   },
   "source": [
    "# Partición de datos"
   ]
  },
  {
   "cell_type": "code",
   "execution_count": null,
   "metadata": {
    "executionInfo": {
     "elapsed": 1428,
     "status": "ok",
     "timestamp": 1614137643336,
     "user": {
      "displayName": "HANS MARLON HIDALGO ALTA",
      "photoUrl": "",
      "userId": "05309271216459286445"
     },
     "user_tz": 300
    },
    "id": "ltIdUG0vGKrc"
   },
   "outputs": [],
   "source": [
    "from sklearn.model_selection import train_test_split"
   ]
  },
  {
   "cell_type": "code",
   "execution_count": null,
   "metadata": {
    "executionInfo": {
     "elapsed": 1262,
     "status": "ok",
     "timestamp": 1614137643621,
     "user": {
      "displayName": "HANS MARLON HIDALGO ALTA",
      "photoUrl": "",
      "userId": "05309271216459286445"
     },
     "user_tz": 300
    },
    "id": "c0ew1iaTFghT"
   },
   "outputs": [],
   "source": [
    "X = dataset.drop('churn',axis=1).copy()\r\n",
    "y= dataset['churn']"
   ]
  },
  {
   "cell_type": "code",
   "execution_count": null,
   "metadata": {
    "executionInfo": {
     "elapsed": 823,
     "status": "ok",
     "timestamp": 1614137644125,
     "user": {
      "displayName": "HANS MARLON HIDALGO ALTA",
      "photoUrl": "",
      "userId": "05309271216459286445"
     },
     "user_tz": 300
    },
    "id": "D-xYo3oIF8gD"
   },
   "outputs": [],
   "source": [
    "X_train, X_test, y_train, y_test = train_test_split(X, y, test_size=0.3, random_state=42)"
   ]
  },
  {
   "cell_type": "markdown",
   "metadata": {
    "id": "q50cLrXsHFfY"
   },
   "source": [
    "# Regresión logística"
   ]
  },
  {
   "cell_type": "markdown",
   "metadata": {},
   "source": [
    "![regresion_logistica](https://miro.medium.com/max/640/1*CYAn9ACXrWX3IneHSoMVOQ.gif)"
   ]
  },
  {
   "cell_type": "code",
   "execution_count": null,
   "metadata": {
    "executionInfo": {
     "elapsed": 830,
     "status": "ok",
     "timestamp": 1614138320788,
     "user": {
      "displayName": "HANS MARLON HIDALGO ALTA",
      "photoUrl": "",
      "userId": "05309271216459286445"
     },
     "user_tz": 300
    },
    "id": "yLFtLWMDGhzp"
   },
   "outputs": [],
   "source": [
    "from sklearn.linear_model import LogisticRegression"
   ]
  },
  {
   "cell_type": "markdown",
   "metadata": {
    "id": "-1YS8pcuHwfL"
   },
   "source": [
    "Creamos el modelo"
   ]
  },
  {
   "cell_type": "code",
   "execution_count": null,
   "metadata": {
    "executionInfo": {
     "elapsed": 825,
     "status": "ok",
     "timestamp": 1614138321117,
     "user": {
      "displayName": "HANS MARLON HIDALGO ALTA",
      "photoUrl": "",
      "userId": "05309271216459286445"
     },
     "user_tz": 300
    },
    "id": "A6VpAQ67HPEs"
   },
   "outputs": [],
   "source": [
    "modelo_regresion_logistica = LogisticRegression(max_iter=1000)"
   ]
  },
  {
   "cell_type": "code",
   "execution_count": null,
   "metadata": {
    "colab": {
     "base_uri": "https://localhost:8080/"
    },
    "executionInfo": {
     "elapsed": 1026,
     "status": "ok",
     "timestamp": 1614138321504,
     "user": {
      "displayName": "HANS MARLON HIDALGO ALTA",
      "photoUrl": "",
      "userId": "05309271216459286445"
     },
     "user_tz": 300
    },
    "id": "oXJyG2IqHRzi",
    "outputId": "c71a88c6-22f1-4b33-9839-1ad943c804f1"
   },
   "outputs": [],
   "source": [
    "print(modelo_regresion_logistica)"
   ]
  },
  {
   "cell_type": "markdown",
   "metadata": {
    "id": "EgHEHi_YHyvl"
   },
   "source": [
    "Entrenamos el modelo"
   ]
  },
  {
   "cell_type": "code",
   "execution_count": null,
   "metadata": {
    "colab": {
     "base_uri": "https://localhost:8080/"
    },
    "executionInfo": {
     "elapsed": 1338,
     "status": "ok",
     "timestamp": 1614138322414,
     "user": {
      "displayName": "HANS MARLON HIDALGO ALTA",
      "photoUrl": "",
      "userId": "05309271216459286445"
     },
     "user_tz": 300
    },
    "id": "E-5hY4pXHTe7",
    "outputId": "badd001c-208c-4eb8-c6b0-e685ce9d7a65"
   },
   "outputs": [],
   "source": [
    "modelo_regresion_logistica.fit(X_train, y_train)"
   ]
  },
  {
   "cell_type": "markdown",
   "metadata": {
    "id": "8VAtRLO9H3Qr"
   },
   "source": [
    "Predicción"
   ]
  },
  {
   "cell_type": "code",
   "execution_count": null,
   "metadata": {
    "executionInfo": {
     "elapsed": 820,
     "status": "ok",
     "timestamp": 1614138322833,
     "user": {
      "displayName": "HANS MARLON HIDALGO ALTA",
      "photoUrl": "",
      "userId": "05309271216459286445"
     },
     "user_tz": 300
    },
    "id": "DAZy5WwjHVjr"
   },
   "outputs": [],
   "source": [
    "prediccion_test = modelo_regresion_logistica.predict(X_test)\r\n",
    "prediccion_train = modelo_regresion_logistica.predict(X_train)"
   ]
  },
  {
   "cell_type": "code",
   "execution_count": null,
   "metadata": {
    "colab": {
     "base_uri": "https://localhost:8080/"
    },
    "executionInfo": {
     "elapsed": 622,
     "status": "ok",
     "timestamp": 1614138323861,
     "user": {
      "displayName": "HANS MARLON HIDALGO ALTA",
      "photoUrl": "",
      "userId": "05309271216459286445"
     },
     "user_tz": 300
    },
    "id": "w7Li5oJDJAJj",
    "outputId": "fea58aec-fb55-40c0-af14-7aed2afc06ca",
    "tags": []
   },
   "outputs": [],
   "source": [
    "prediccion_test"
   ]
  },
  {
   "cell_type": "markdown",
   "metadata": {},
   "source": [
    "Matriz de confusión"
   ]
  },
  {
   "cell_type": "code",
   "execution_count": null,
   "metadata": {},
   "outputs": [],
   "source": [
    "from sklearn.metrics import confusion_matrix, classification_report, roc_curve, roc_auc_score, accuracy_score"
   ]
  },
  {
   "cell_type": "code",
   "execution_count": null,
   "metadata": {},
   "outputs": [],
   "source": [
    "matriz_confusion = confusion_matrix(y_test, prediccion_test)\n",
    "matriz_confusion"
   ]
  },
  {
   "cell_type": "markdown",
   "metadata": {},
   "source": [
    "###### Accuracy"
   ]
  },
  {
   "cell_type": "code",
   "execution_count": null,
   "metadata": {},
   "outputs": [],
   "source": [
    "print(accuracy_score(y_test, prediccion_test))"
   ]
  },
  {
   "cell_type": "markdown",
   "metadata": {},
   "source": [
    "###### Probabilidades"
   ]
  },
  {
   "cell_type": "code",
   "execution_count": null,
   "metadata": {},
   "outputs": [],
   "source": [
    "prediccion_test_proba = modelo_regresion_logistica.predict_proba(X_test)\n",
    "prediccion_test_proba"
   ]
  },
  {
   "cell_type": "markdown",
   "metadata": {},
   "source": [
    "###### AUC"
   ]
  },
  {
   "cell_type": "code",
   "execution_count": null,
   "metadata": {},
   "outputs": [],
   "source": [
    "roc_auc_score(y_test, prediccion_test_proba[:,1])"
   ]
  },
  {
   "cell_type": "markdown",
   "metadata": {
    "id": "Be3LCYheIgpY"
   },
   "source": [
    "# KNN"
   ]
  },
  {
   "cell_type": "markdown",
   "metadata": {},
   "source": [
    "![knn](https://www.feedingthemachine.ai/wp-content/uploads/2019/06/0_jqxx3-dJqFjXD6FA.png)"
   ]
  },
  {
   "cell_type": "markdown",
   "metadata": {},
   "source": [
    "---\n",
    "![knn](https://machinelearningknowledge.ai/wp-content/uploads/2018/08/KNN-Classification.gif)"
   ]
  },
  {
   "cell_type": "code",
   "execution_count": null,
   "metadata": {
    "executionInfo": {
     "elapsed": 685,
     "status": "ok",
     "timestamp": 1614138490985,
     "user": {
      "displayName": "HANS MARLON HIDALGO ALTA",
      "photoUrl": "",
      "userId": "05309271216459286445"
     },
     "user_tz": 300
    },
    "id": "zl7pQiXTH7nI"
   },
   "outputs": [],
   "source": [
    "from sklearn.neighbors import KNeighborsClassifier"
   ]
  },
  {
   "cell_type": "markdown",
   "metadata": {
    "id": "xC2Wg8qgIk5J"
   },
   "source": [
    "Creamos el modelo"
   ]
  },
  {
   "cell_type": "code",
   "execution_count": null,
   "metadata": {
    "executionInfo": {
     "elapsed": 532,
     "status": "ok",
     "timestamp": 1614138491355,
     "user": {
      "displayName": "HANS MARLON HIDALGO ALTA",
      "photoUrl": "",
      "userId": "05309271216459286445"
     },
     "user_tz": 300
    },
    "id": "UyY-F13-H-JO"
   },
   "outputs": [],
   "source": [
    "modelo_knn = KNeighborsClassifier(n_neighbors=5)"
   ]
  },
  {
   "cell_type": "code",
   "execution_count": null,
   "metadata": {
    "colab": {
     "base_uri": "https://localhost:8080/"
    },
    "executionInfo": {
     "elapsed": 655,
     "status": "ok",
     "timestamp": 1614138491702,
     "user": {
      "displayName": "HANS MARLON HIDALGO ALTA",
      "photoUrl": "",
      "userId": "05309271216459286445"
     },
     "user_tz": 300
    },
    "id": "AE1f-0NEH-MJ",
    "outputId": "54fa55df-a382-4140-fc3c-44b1af1840ab"
   },
   "outputs": [],
   "source": [
    "print(modelo_knn)"
   ]
  },
  {
   "cell_type": "markdown",
   "metadata": {
    "id": "Ifk6RNQqIwgD"
   },
   "source": [
    "Entrenamos el modelo"
   ]
  },
  {
   "cell_type": "code",
   "execution_count": null,
   "metadata": {
    "colab": {
     "base_uri": "https://localhost:8080/"
    },
    "executionInfo": {
     "elapsed": 765,
     "status": "ok",
     "timestamp": 1614138492217,
     "user": {
      "displayName": "HANS MARLON HIDALGO ALTA",
      "photoUrl": "",
      "userId": "05309271216459286445"
     },
     "user_tz": 300
    },
    "id": "K9DZacRCIsmE",
    "outputId": "e131243b-9d87-41d4-b816-fa800144662e"
   },
   "outputs": [],
   "source": [
    "modelo_knn.fit(X_train, y_train)"
   ]
  },
  {
   "cell_type": "markdown",
   "metadata": {
    "id": "2U8XdjzuI0Ym"
   },
   "source": [
    "Predicción"
   ]
  },
  {
   "cell_type": "code",
   "execution_count": null,
   "metadata": {
    "executionInfo": {
     "elapsed": 1183,
     "status": "ok",
     "timestamp": 1614138493030,
     "user": {
      "displayName": "HANS MARLON HIDALGO ALTA",
      "photoUrl": "",
      "userId": "05309271216459286445"
     },
     "user_tz": 300
    },
    "id": "K52xMxX4Iyyr"
   },
   "outputs": [],
   "source": [
    "prediccion_test = modelo_knn.predict(X_test)\r\n",
    "prediccion_train = modelo_knn.predict(X_train)"
   ]
  },
  {
   "cell_type": "code",
   "execution_count": null,
   "metadata": {
    "colab": {
     "base_uri": "https://localhost:8080/"
    },
    "executionInfo": {
     "elapsed": 1004,
     "status": "ok",
     "timestamp": 1614138493034,
     "user": {
      "displayName": "HANS MARLON HIDALGO ALTA",
      "photoUrl": "",
      "userId": "05309271216459286445"
     },
     "user_tz": 300
    },
    "id": "OR-6gf59I3QC",
    "outputId": "412dc8c0-16f7-4b9e-842f-99fa268d56f0",
    "tags": []
   },
   "outputs": [],
   "source": [
    "prediccion_test"
   ]
  },
  {
   "cell_type": "markdown",
   "metadata": {},
   "source": [
    "Matriz de confusión"
   ]
  },
  {
   "cell_type": "code",
   "execution_count": null,
   "metadata": {},
   "outputs": [],
   "source": [
    "matriz_confusion = confusion_matrix(y_test, prediccion_test)\n",
    "matriz_confusion"
   ]
  },
  {
   "cell_type": "markdown",
   "metadata": {},
   "source": [
    "###### Accuracy"
   ]
  },
  {
   "cell_type": "code",
   "execution_count": null,
   "metadata": {},
   "outputs": [],
   "source": [
    "print(accuracy_score(y_test, prediccion_test))"
   ]
  },
  {
   "cell_type": "markdown",
   "metadata": {},
   "source": [
    "###### Probabilidades"
   ]
  },
  {
   "cell_type": "code",
   "execution_count": null,
   "metadata": {},
   "outputs": [],
   "source": [
    "prediccion_test_proba = modelo_knn.predict_proba(X_test)\n",
    "prediccion_test_proba"
   ]
  },
  {
   "cell_type": "markdown",
   "metadata": {},
   "source": [
    "###### AUC"
   ]
  },
  {
   "cell_type": "code",
   "execution_count": null,
   "metadata": {},
   "outputs": [],
   "source": [
    "roc_auc_score(y_test, prediccion_test_proba[:,1])"
   ]
  },
  {
   "cell_type": "markdown",
   "metadata": {
    "id": "MVfSTpjQLGeg"
   },
   "source": [
    "# SVM"
   ]
  },
  {
   "cell_type": "markdown",
   "metadata": {},
   "source": [
    "![knn](https://miro.medium.com/max/681/1*csqbt5-K4GVi4i4Lrcx_eA.png)\n",
    "---\n",
    "![knn](https://miro.medium.com/max/700/0*Ojchw_Exefs4qiok.)"
   ]
  },
  {
   "cell_type": "code",
   "execution_count": null,
   "metadata": {
    "executionInfo": {
     "elapsed": 1171,
     "status": "ok",
     "timestamp": 1614139038626,
     "user": {
      "displayName": "HANS MARLON HIDALGO ALTA",
      "photoUrl": "",
      "userId": "05309271216459286445"
     },
     "user_tz": 300
    },
    "id": "924uP-7EI64b"
   },
   "outputs": [],
   "source": [
    "from sklearn.svm import SVC"
   ]
  },
  {
   "cell_type": "markdown",
   "metadata": {
    "id": "CQFQUl93LMn1"
   },
   "source": [
    "Creamos el modelo"
   ]
  },
  {
   "cell_type": "code",
   "execution_count": null,
   "metadata": {
    "executionInfo": {
     "elapsed": 1205,
     "status": "ok",
     "timestamp": 1614139039061,
     "user": {
      "displayName": "HANS MARLON HIDALGO ALTA",
      "photoUrl": "",
      "userId": "05309271216459286445"
     },
     "user_tz": 300
    },
    "id": "k75C1-AULJ2T"
   },
   "outputs": [],
   "source": [
    "modelo_svm = SVC(C=0.1, probability=True)"
   ]
  },
  {
   "cell_type": "code",
   "execution_count": null,
   "metadata": {
    "colab": {
     "base_uri": "https://localhost:8080/"
    },
    "executionInfo": {
     "elapsed": 1062,
     "status": "ok",
     "timestamp": 1614139039062,
     "user": {
      "displayName": "HANS MARLON HIDALGO ALTA",
      "photoUrl": "",
      "userId": "05309271216459286445"
     },
     "user_tz": 300
    },
    "id": "gjfQJuYOLaqJ",
    "outputId": "e5533a66-1b30-4990-b958-0647ffce7cd7"
   },
   "outputs": [],
   "source": [
    "print(modelo_svm)"
   ]
  },
  {
   "cell_type": "markdown",
   "metadata": {
    "id": "6u_T-rQILg19"
   },
   "source": [
    "Entrenamos el modelo"
   ]
  },
  {
   "cell_type": "code",
   "execution_count": null,
   "metadata": {
    "colab": {
     "base_uri": "https://localhost:8080/"
    },
    "executionInfo": {
     "elapsed": 1051,
     "status": "ok",
     "timestamp": 1614139039411,
     "user": {
      "displayName": "HANS MARLON HIDALGO ALTA",
      "photoUrl": "",
      "userId": "05309271216459286445"
     },
     "user_tz": 300
    },
    "id": "3-qOe7yCLfCh",
    "outputId": "7fab7abc-d15a-41bd-a1b4-220e7dc5a7a9"
   },
   "outputs": [],
   "source": [
    "modelo_svm.fit(X_train,y_train)"
   ]
  },
  {
   "cell_type": "markdown",
   "metadata": {
    "id": "iOZ3hG9SLqXp"
   },
   "source": [
    "Predicción"
   ]
  },
  {
   "cell_type": "code",
   "execution_count": null,
   "metadata": {
    "executionInfo": {
     "elapsed": 675,
     "status": "ok",
     "timestamp": 1614139039692,
     "user": {
      "displayName": "HANS MARLON HIDALGO ALTA",
      "photoUrl": "",
      "userId": "05309271216459286445"
     },
     "user_tz": 300
    },
    "id": "WXvc2ff7LlCJ"
   },
   "outputs": [],
   "source": [
    "prediccion_test = modelo_svm.predict(X_test)\r\n",
    "prediccion_train = modelo_svm.predict(X_train)"
   ]
  },
  {
   "cell_type": "code",
   "execution_count": null,
   "metadata": {
    "colab": {
     "base_uri": "https://localhost:8080/"
    },
    "executionInfo": {
     "elapsed": 690,
     "status": "ok",
     "timestamp": 1614139040298,
     "user": {
      "displayName": "HANS MARLON HIDALGO ALTA",
      "photoUrl": "",
      "userId": "05309271216459286445"
     },
     "user_tz": 300
    },
    "id": "wJ-ek8DELuR5",
    "outputId": "2392388f-4d7e-4581-e59c-ab7524922f83",
    "tags": []
   },
   "outputs": [],
   "source": [
    "prediccion_test"
   ]
  },
  {
   "cell_type": "markdown",
   "metadata": {},
   "source": [
    "Matriz de confusión"
   ]
  },
  {
   "cell_type": "code",
   "execution_count": null,
   "metadata": {},
   "outputs": [],
   "source": [
    "matriz_confusion = confusion_matrix(y_test, prediccion_test)\n",
    "matriz_confusion"
   ]
  },
  {
   "cell_type": "markdown",
   "metadata": {},
   "source": [
    "###### Accuracy"
   ]
  },
  {
   "cell_type": "code",
   "execution_count": null,
   "metadata": {},
   "outputs": [],
   "source": [
    "print(accuracy_score(y_test, prediccion_test))"
   ]
  },
  {
   "cell_type": "markdown",
   "metadata": {},
   "source": [
    "###### Probabilidades"
   ]
  },
  {
   "cell_type": "code",
   "execution_count": null,
   "metadata": {},
   "outputs": [],
   "source": [
    "prediccion_test_proba = modelo_svm.predict_proba(X_test)\n",
    "prediccion_test_proba"
   ]
  },
  {
   "cell_type": "markdown",
   "metadata": {},
   "source": [
    "###### AUC"
   ]
  },
  {
   "cell_type": "code",
   "execution_count": null,
   "metadata": {},
   "outputs": [],
   "source": [
    "roc_auc_score(y_test, prediccion_test_proba[:,1])"
   ]
  },
  {
   "cell_type": "markdown",
   "metadata": {
    "id": "bJsJotOsPTp-"
   },
   "source": [
    "# Árbol de decisión"
   ]
  },
  {
   "cell_type": "markdown",
   "metadata": {},
   "source": [
    "![knn](https://dimensionless.in/wp-content/uploads/RandomForest_blog_files/figure-html/dt_boundary.png)"
   ]
  },
  {
   "cell_type": "code",
   "execution_count": null,
   "metadata": {
    "executionInfo": {
     "elapsed": 683,
     "status": "ok",
     "timestamp": 1614140033338,
     "user": {
      "displayName": "HANS MARLON HIDALGO ALTA",
      "photoUrl": "",
      "userId": "05309271216459286445"
     },
     "user_tz": 300
    },
    "id": "_FCTC8eiLvV4"
   },
   "outputs": [],
   "source": [
    "from sklearn.tree import DecisionTreeClassifier"
   ]
  },
  {
   "cell_type": "markdown",
   "metadata": {
    "id": "VsRzimY3Pmwy"
   },
   "source": [
    "Creamos el modelo"
   ]
  },
  {
   "cell_type": "code",
   "execution_count": null,
   "metadata": {
    "executionInfo": {
     "elapsed": 1019,
     "status": "ok",
     "timestamp": 1614140056170,
     "user": {
      "displayName": "HANS MARLON HIDALGO ALTA",
      "photoUrl": "",
      "userId": "05309271216459286445"
     },
     "user_tz": 300
    },
    "id": "yPlcLx7gPkY4"
   },
   "outputs": [],
   "source": [
    "modelo_arbol = DecisionTreeClassifier(criterion='gini', max_depth=3, random_state=17)"
   ]
  },
  {
   "cell_type": "code",
   "execution_count": null,
   "metadata": {
    "colab": {
     "base_uri": "https://localhost:8080/"
    },
    "executionInfo": {
     "elapsed": 689,
     "status": "ok",
     "timestamp": 1614140065920,
     "user": {
      "displayName": "HANS MARLON HIDALGO ALTA",
      "photoUrl": "",
      "userId": "05309271216459286445"
     },
     "user_tz": 300
    },
    "id": "R34_yCqNPp4m",
    "outputId": "cbc213ac-5379-4aaa-de69-760205ec7023"
   },
   "outputs": [],
   "source": [
    "print(modelo_arbol)"
   ]
  },
  {
   "cell_type": "markdown",
   "metadata": {
    "id": "Y63XY5LGPuOT"
   },
   "source": [
    "Entrenamos el modelo"
   ]
  },
  {
   "cell_type": "code",
   "execution_count": null,
   "metadata": {
    "colab": {
     "base_uri": "https://localhost:8080/"
    },
    "executionInfo": {
     "elapsed": 660,
     "status": "ok",
     "timestamp": 1614140080642,
     "user": {
      "displayName": "HANS MARLON HIDALGO ALTA",
      "photoUrl": "",
      "userId": "05309271216459286445"
     },
     "user_tz": 300
    },
    "id": "XIQhJ_VhPsWH",
    "outputId": "27e1e070-9f4d-4fe5-cdf1-097b5dec392d"
   },
   "outputs": [],
   "source": [
    "modelo_arbol.fit(X_train,y_train)"
   ]
  },
  {
   "cell_type": "markdown",
   "metadata": {
    "id": "j-rE-natPyKO"
   },
   "source": [
    "Predicción"
   ]
  },
  {
   "cell_type": "code",
   "execution_count": null,
   "metadata": {
    "executionInfo": {
     "elapsed": 843,
     "status": "ok",
     "timestamp": 1614140100235,
     "user": {
      "displayName": "HANS MARLON HIDALGO ALTA",
      "photoUrl": "",
      "userId": "05309271216459286445"
     },
     "user_tz": 300
    },
    "id": "LlWNgtAwPv8n"
   },
   "outputs": [],
   "source": [
    "prediccion_test = modelo_arbol.predict(X_test)\r\n",
    "prediccion_test_proba = modelo_arbol.predict_proba(X_test)"
   ]
  },
  {
   "cell_type": "code",
   "execution_count": null,
   "metadata": {
    "colab": {
     "base_uri": "https://localhost:8080/"
    },
    "executionInfo": {
     "elapsed": 661,
     "status": "ok",
     "timestamp": 1614140104883,
     "user": {
      "displayName": "HANS MARLON HIDALGO ALTA",
      "photoUrl": "",
      "userId": "05309271216459286445"
     },
     "user_tz": 300
    },
    "id": "raOF2hNwP0r3",
    "outputId": "e5f7cece-7f59-49c4-f365-ab2af7666001",
    "tags": []
   },
   "outputs": [],
   "source": [
    "prediccion_test"
   ]
  },
  {
   "cell_type": "markdown",
   "metadata": {},
   "source": [
    "Matriz de confusión"
   ]
  },
  {
   "cell_type": "code",
   "execution_count": null,
   "metadata": {},
   "outputs": [],
   "source": [
    "matriz_confusion = confusion_matrix(y_test, prediccion_test)\n",
    "matriz_confusion"
   ]
  },
  {
   "cell_type": "markdown",
   "metadata": {},
   "source": [
    "###### Accuracy"
   ]
  },
  {
   "cell_type": "code",
   "execution_count": null,
   "metadata": {},
   "outputs": [],
   "source": [
    "print(accuracy_score(y_test, prediccion_test))"
   ]
  },
  {
   "cell_type": "markdown",
   "metadata": {},
   "source": [
    "###### Probabilidades"
   ]
  },
  {
   "cell_type": "code",
   "execution_count": null,
   "metadata": {},
   "outputs": [],
   "source": [
    "prediccion_test_proba = modelo_arbol.predict_proba(X_test)\n",
    "prediccion_test_proba"
   ]
  },
  {
   "cell_type": "markdown",
   "metadata": {},
   "source": [
    "###### AUC"
   ]
  },
  {
   "cell_type": "code",
   "execution_count": null,
   "metadata": {},
   "outputs": [],
   "source": [
    "roc_auc_score(y_test, prediccion_test_proba[:,1])"
   ]
  }
 ],
 "metadata": {
  "colab": {
   "authorship_tag": "ABX9TyPM8L2CgLfIK5ubycmYFJ++",
   "name": "Librerías modelos de clasificación.ipynb",
   "provenance": []
  },
  "kernelspec": {
   "display_name": "Python 3",
   "language": "python",
   "name": "python3"
  },
  "language_info": {
   "codemirror_mode": {
    "name": "ipython",
    "version": 3
   },
   "file_extension": ".py",
   "mimetype": "text/x-python",
   "name": "python",
   "nbconvert_exporter": "python",
   "pygments_lexer": "ipython3",
   "version": "3.8.3"
  }
 },
 "nbformat": 4,
 "nbformat_minor": 4
}
